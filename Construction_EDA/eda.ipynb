{
 "cells": [
  {
   "cell_type": "code",
   "execution_count": 3,
   "id": "c6064c55-8053-445c-b797-293f6fe5c62b",
   "metadata": {},
   "outputs": [],
   "source": [
    "import pandas as pd"
   ]
  },
  {
   "cell_type": "code",
   "execution_count": 11,
   "id": "bc1d9442-d3ae-4fbc-8517-c6eb0a95f520",
   "metadata": {},
   "outputs": [
    {
     "name": "stdout",
     "output_type": "stream",
     "text": [
      "<class 'pandas.core.frame.DataFrame'>\n",
      "RangeIndex: 5 entries, 0 to 4\n",
      "Data columns (total 7 columns):\n",
      " #   Column                     Non-Null Count  Dtype \n",
      "---  ------                     --------------  ----- \n",
      " 0   project                    5 non-null      object\n",
      " 1   type                       5 non-null      object\n",
      " 2   estimated_cost             5 non-null      int64 \n",
      " 3   actual_cost                5 non-null      int64 \n",
      " 4   estimated_duration_months  5 non-null      int64 \n",
      " 5   actual_duration_months     5 non-null      int64 \n",
      " 6   location                   5 non-null      object\n",
      "dtypes: int64(4), object(3)\n",
      "memory usage: 412.0+ bytes\n"
     ]
    },
    {
     "data": {
      "text/html": [
       "<div>\n",
       "<style scoped>\n",
       "    .dataframe tbody tr th:only-of-type {\n",
       "        vertical-align: middle;\n",
       "    }\n",
       "\n",
       "    .dataframe tbody tr th {\n",
       "        vertical-align: top;\n",
       "    }\n",
       "\n",
       "    .dataframe thead th {\n",
       "        text-align: right;\n",
       "    }\n",
       "</style>\n",
       "<table border=\"1\" class=\"dataframe\">\n",
       "  <thead>\n",
       "    <tr style=\"text-align: right;\">\n",
       "      <th></th>\n",
       "      <th>project</th>\n",
       "      <th>type</th>\n",
       "      <th>estimated_cost</th>\n",
       "      <th>actual_cost</th>\n",
       "      <th>estimated_duration_months</th>\n",
       "      <th>actual_duration_months</th>\n",
       "      <th>location</th>\n",
       "    </tr>\n",
       "  </thead>\n",
       "  <tbody>\n",
       "    <tr>\n",
       "      <th>0</th>\n",
       "      <td>Building A</td>\n",
       "      <td>Residential</td>\n",
       "      <td>500000</td>\n",
       "      <td>520000</td>\n",
       "      <td>12</td>\n",
       "      <td>13</td>\n",
       "      <td>SP</td>\n",
       "    </tr>\n",
       "    <tr>\n",
       "      <th>1</th>\n",
       "      <td>Bridge B</td>\n",
       "      <td>Infrastructure</td>\n",
       "      <td>1200000</td>\n",
       "      <td>1300000</td>\n",
       "      <td>24</td>\n",
       "      <td>26</td>\n",
       "      <td>RJ</td>\n",
       "    </tr>\n",
       "    <tr>\n",
       "      <th>2</th>\n",
       "      <td>Mall C</td>\n",
       "      <td>Commercial</td>\n",
       "      <td>800000</td>\n",
       "      <td>780000</td>\n",
       "      <td>18</td>\n",
       "      <td>17</td>\n",
       "      <td>MG</td>\n",
       "    </tr>\n",
       "    <tr>\n",
       "      <th>3</th>\n",
       "      <td>Highway D</td>\n",
       "      <td>Infrastructure</td>\n",
       "      <td>3000000</td>\n",
       "      <td>3100000</td>\n",
       "      <td>36</td>\n",
       "      <td>38</td>\n",
       "      <td>BA</td>\n",
       "    </tr>\n",
       "    <tr>\n",
       "      <th>4</th>\n",
       "      <td>School E</td>\n",
       "      <td>Institutional</td>\n",
       "      <td>600000</td>\n",
       "      <td>590000</td>\n",
       "      <td>14</td>\n",
       "      <td>15</td>\n",
       "      <td>RS</td>\n",
       "    </tr>\n",
       "  </tbody>\n",
       "</table>\n",
       "</div>"
      ],
      "text/plain": [
       "      project            type  estimated_cost  actual_cost  \\\n",
       "0  Building A     Residential          500000       520000   \n",
       "1    Bridge B  Infrastructure         1200000      1300000   \n",
       "2      Mall C      Commercial          800000       780000   \n",
       "3   Highway D  Infrastructure         3000000      3100000   \n",
       "4    School E   Institutional          600000       590000   \n",
       "\n",
       "   estimated_duration_months  actual_duration_months location  \n",
       "0                         12                      13       SP  \n",
       "1                         24                      26       RJ  \n",
       "2                         18                      17       MG  \n",
       "3                         36                      38       BA  \n",
       "4                         14                      15       RS  "
      ]
     },
     "execution_count": 11,
     "metadata": {},
     "output_type": "execute_result"
    }
   ],
   "source": [
    "df = pd.read_csv(\"construction_projects.csv\")\n",
    "df.info()\n",
    "df.head()"
   ]
  },
  {
   "cell_type": "code",
   "execution_count": 13,
   "id": "811639dc-7ab1-49f0-be88-13f58f46416d",
   "metadata": {},
   "outputs": [
    {
     "data": {
      "text/plain": [
       "project                      0\n",
       "type                         0\n",
       "estimated_cost               0\n",
       "actual_cost                  0\n",
       "estimated_duration_months    0\n",
       "actual_duration_months       0\n",
       "location                     0\n",
       "dtype: int64"
      ]
     },
     "execution_count": 13,
     "metadata": {},
     "output_type": "execute_result"
    }
   ],
   "source": [
    "df.isnull().sum()"
   ]
  },
  {
   "cell_type": "code",
   "execution_count": 15,
   "id": "12ed9320-285e-4cc2-b0a1-7dfac9e7df3b",
   "metadata": {},
   "outputs": [
    {
     "data": {
      "text/plain": [
       "project                      object\n",
       "type                         object\n",
       "estimated_cost                int64\n",
       "actual_cost                   int64\n",
       "estimated_duration_months     int64\n",
       "actual_duration_months        int64\n",
       "location                     object\n",
       "dtype: object"
      ]
     },
     "execution_count": 15,
     "metadata": {},
     "output_type": "execute_result"
    }
   ],
   "source": [
    "df.dtypes"
   ]
  },
  {
   "cell_type": "code",
   "execution_count": 17,
   "id": "66833486-3307-4c47-8cf4-08c737d71a1d",
   "metadata": {},
   "outputs": [
    {
     "data": {
      "text/html": [
       "<div>\n",
       "<style scoped>\n",
       "    .dataframe tbody tr th:only-of-type {\n",
       "        vertical-align: middle;\n",
       "    }\n",
       "\n",
       "    .dataframe tbody tr th {\n",
       "        vertical-align: top;\n",
       "    }\n",
       "\n",
       "    .dataframe thead th {\n",
       "        text-align: right;\n",
       "    }\n",
       "</style>\n",
       "<table border=\"1\" class=\"dataframe\">\n",
       "  <thead>\n",
       "    <tr style=\"text-align: right;\">\n",
       "      <th></th>\n",
       "      <th>estimated_cost</th>\n",
       "      <th>actual_cost</th>\n",
       "      <th>estimated_duration_months</th>\n",
       "      <th>actual_duration_months</th>\n",
       "    </tr>\n",
       "  </thead>\n",
       "  <tbody>\n",
       "    <tr>\n",
       "      <th>count</th>\n",
       "      <td>5.000000e+00</td>\n",
       "      <td>5.000000e+00</td>\n",
       "      <td>5.000000</td>\n",
       "      <td>5.000000</td>\n",
       "    </tr>\n",
       "    <tr>\n",
       "      <th>mean</th>\n",
       "      <td>1.220000e+06</td>\n",
       "      <td>1.258000e+06</td>\n",
       "      <td>20.800000</td>\n",
       "      <td>21.800000</td>\n",
       "    </tr>\n",
       "    <tr>\n",
       "      <th>std</th>\n",
       "      <td>1.030534e+06</td>\n",
       "      <td>1.074020e+06</td>\n",
       "      <td>9.654015</td>\n",
       "      <td>10.329569</td>\n",
       "    </tr>\n",
       "    <tr>\n",
       "      <th>min</th>\n",
       "      <td>5.000000e+05</td>\n",
       "      <td>5.200000e+05</td>\n",
       "      <td>12.000000</td>\n",
       "      <td>13.000000</td>\n",
       "    </tr>\n",
       "    <tr>\n",
       "      <th>25%</th>\n",
       "      <td>6.000000e+05</td>\n",
       "      <td>5.900000e+05</td>\n",
       "      <td>14.000000</td>\n",
       "      <td>15.000000</td>\n",
       "    </tr>\n",
       "    <tr>\n",
       "      <th>50%</th>\n",
       "      <td>8.000000e+05</td>\n",
       "      <td>7.800000e+05</td>\n",
       "      <td>18.000000</td>\n",
       "      <td>17.000000</td>\n",
       "    </tr>\n",
       "    <tr>\n",
       "      <th>75%</th>\n",
       "      <td>1.200000e+06</td>\n",
       "      <td>1.300000e+06</td>\n",
       "      <td>24.000000</td>\n",
       "      <td>26.000000</td>\n",
       "    </tr>\n",
       "    <tr>\n",
       "      <th>max</th>\n",
       "      <td>3.000000e+06</td>\n",
       "      <td>3.100000e+06</td>\n",
       "      <td>36.000000</td>\n",
       "      <td>38.000000</td>\n",
       "    </tr>\n",
       "  </tbody>\n",
       "</table>\n",
       "</div>"
      ],
      "text/plain": [
       "       estimated_cost   actual_cost  estimated_duration_months  \\\n",
       "count    5.000000e+00  5.000000e+00                   5.000000   \n",
       "mean     1.220000e+06  1.258000e+06                  20.800000   \n",
       "std      1.030534e+06  1.074020e+06                   9.654015   \n",
       "min      5.000000e+05  5.200000e+05                  12.000000   \n",
       "25%      6.000000e+05  5.900000e+05                  14.000000   \n",
       "50%      8.000000e+05  7.800000e+05                  18.000000   \n",
       "75%      1.200000e+06  1.300000e+06                  24.000000   \n",
       "max      3.000000e+06  3.100000e+06                  36.000000   \n",
       "\n",
       "       actual_duration_months  \n",
       "count                5.000000  \n",
       "mean                21.800000  \n",
       "std                 10.329569  \n",
       "min                 13.000000  \n",
       "25%                 15.000000  \n",
       "50%                 17.000000  \n",
       "75%                 26.000000  \n",
       "max                 38.000000  "
      ]
     },
     "execution_count": 17,
     "metadata": {},
     "output_type": "execute_result"
    }
   ],
   "source": [
    "df.describe()"
   ]
  },
  {
   "cell_type": "code",
   "execution_count": 21,
   "id": "dfd5df5c-bf9c-4d8e-aa10-f0ac4b58e7ca",
   "metadata": {},
   "outputs": [
    {
     "data": {
      "text/html": [
       "<div>\n",
       "<style scoped>\n",
       "    .dataframe tbody tr th:only-of-type {\n",
       "        vertical-align: middle;\n",
       "    }\n",
       "\n",
       "    .dataframe tbody tr th {\n",
       "        vertical-align: top;\n",
       "    }\n",
       "\n",
       "    .dataframe thead th {\n",
       "        text-align: right;\n",
       "    }\n",
       "</style>\n",
       "<table border=\"1\" class=\"dataframe\">\n",
       "  <thead>\n",
       "    <tr style=\"text-align: right;\">\n",
       "      <th></th>\n",
       "      <th>project</th>\n",
       "      <th>type</th>\n",
       "      <th>estimated_cost</th>\n",
       "      <th>actual_cost</th>\n",
       "      <th>estimated_duration_months</th>\n",
       "      <th>actual_duration_months</th>\n",
       "      <th>location</th>\n",
       "    </tr>\n",
       "  </thead>\n",
       "  <tbody>\n",
       "    <tr>\n",
       "      <th>0</th>\n",
       "      <td>Building A</td>\n",
       "      <td>Residential</td>\n",
       "      <td>500000</td>\n",
       "      <td>520000</td>\n",
       "      <td>12</td>\n",
       "      <td>13</td>\n",
       "      <td>SP</td>\n",
       "    </tr>\n",
       "    <tr>\n",
       "      <th>1</th>\n",
       "      <td>Bridge B</td>\n",
       "      <td>Infrastructure</td>\n",
       "      <td>1200000</td>\n",
       "      <td>1300000</td>\n",
       "      <td>24</td>\n",
       "      <td>26</td>\n",
       "      <td>RJ</td>\n",
       "    </tr>\n",
       "    <tr>\n",
       "      <th>2</th>\n",
       "      <td>Mall C</td>\n",
       "      <td>Commercial</td>\n",
       "      <td>800000</td>\n",
       "      <td>780000</td>\n",
       "      <td>18</td>\n",
       "      <td>17</td>\n",
       "      <td>MG</td>\n",
       "    </tr>\n",
       "    <tr>\n",
       "      <th>3</th>\n",
       "      <td>Highway D</td>\n",
       "      <td>Infrastructure</td>\n",
       "      <td>3000000</td>\n",
       "      <td>3100000</td>\n",
       "      <td>36</td>\n",
       "      <td>38</td>\n",
       "      <td>BA</td>\n",
       "    </tr>\n",
       "    <tr>\n",
       "      <th>4</th>\n",
       "      <td>School E</td>\n",
       "      <td>Institutional</td>\n",
       "      <td>600000</td>\n",
       "      <td>590000</td>\n",
       "      <td>14</td>\n",
       "      <td>15</td>\n",
       "      <td>RS</td>\n",
       "    </tr>\n",
       "  </tbody>\n",
       "</table>\n",
       "</div>"
      ],
      "text/plain": [
       "      project            type  estimated_cost  actual_cost  \\\n",
       "0  Building A     Residential          500000       520000   \n",
       "1    Bridge B  Infrastructure         1200000      1300000   \n",
       "2      Mall C      Commercial          800000       780000   \n",
       "3   Highway D  Infrastructure         3000000      3100000   \n",
       "4    School E   Institutional          600000       590000   \n",
       "\n",
       "   estimated_duration_months  actual_duration_months location  \n",
       "0                         12                      13       SP  \n",
       "1                         24                      26       RJ  \n",
       "2                         18                      17       MG  \n",
       "3                         36                      38       BA  \n",
       "4                         14                      15       RS  "
      ]
     },
     "execution_count": 21,
     "metadata": {},
     "output_type": "execute_result"
    }
   ],
   "source": [
    "df.fillna(0)"
   ]
  },
  {
   "cell_type": "code",
   "execution_count": 25,
   "id": "7c25a8aa-5b51-4fd9-bf25-703072c26725",
   "metadata": {},
   "outputs": [
    {
     "data": {
      "image/png": "[encoded data removed]",
      "text/plain": [
       "<Figure size 800x500 with 1 Axes>"
      ]
     },
     "metadata": {},
     "output_type": "display_data"
    }
   ],
   "source": [
    "import matplotlib.pyplot as plt\n",
    "\n",
    "plt.figure(figsize=(8,5))\n",
    "plt.scatter(df[\"estimated_cost\"], df[\"actual_cost\"], alpha=0.5)\n",
    "plt.xlabel(\"Estimated Cost\")\n",
    "plt.ylabel(\"Actual Cost\")\n",
    "plt.title(\"Estimated vs. Actual Construction Costs\")\n",
    "plt.show()\n"
   ]
  },
  {
   "cell_type": "code",
   "execution_count": 27,
   "id": "b5171b02-7ea7-4846-8de1-c8020c001bc9",
   "metadata": {},
   "outputs": [
    {
     "data": {
      "text/plain": [
       "count    5.000000\n",
       "mean     2.300000\n",
       "std      4.447846\n",
       "min     -2.500000\n",
       "25%     -1.666667\n",
       "50%      3.333333\n",
       "75%      4.000000\n",
       "max      8.333333\n",
       "Name: cost_overrun, dtype: float64"
      ]
     },
     "execution_count": 27,
     "metadata": {},
     "output_type": "execute_result"
    }
   ],
   "source": [
    "df[\"cost_overrun\"] = ((df[\"actual_cost\"] - df[\"estimated_cost\"]) / df[\"estimated_cost\"]) * 100\n",
    "df[\"cost_overrun\"].describe()"
   ]
  }
 ],
 "metadata": {
  "kernelspec": {
   "display_name": "Python [conda env:base] *",
   "language": "python",
   "name": "conda-base-py"
  },
  "language_info": {
   "codemirror_mode": {
    "name": "ipython",
    "version": 3
   },
   "file_extension": ".py",
   "mimetype": "text/x-python",
   "name": "python",
   "nbconvert_exporter": "python",
   "pygments_lexer": "ipython3",
   "version": "3.12.7"
  }
 },
 "nbformat": 4,
 "nbformat_minor": 5
}
